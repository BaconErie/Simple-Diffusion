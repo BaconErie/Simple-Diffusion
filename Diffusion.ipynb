{
 "cells": [
  {
   "cell_type": "markdown",
   "id": "d9258d03",
   "metadata": {},
   "source": [
    "# Installing necessary dependencies"
   ]
  },
  {
   "cell_type": "code",
   "execution_count": 1,
   "id": "95e8f14a",
   "metadata": {},
   "outputs": [
    {
     "name": "stdout",
     "output_type": "stream",
     "text": [
      "Requirement already satisfied: opencv-python in ./env/lib/python3.12/site-packages (4.9.0.80)\n",
      "Requirement already satisfied: numpy>=1.21.2 in ./env/lib/python3.12/site-packages (from opencv-python) (1.26.4)\n",
      "Note: you may need to restart the kernel to use updated packages.\n",
      "Requirement already satisfied: numpy in ./env/lib/python3.12/site-packages (1.26.4)\n",
      "Note: you may need to restart the kernel to use updated packages.\n"
     ]
    }
   ],
   "source": [
    "%pip install opencv-python\n",
    "%pip install numpy"
   ]
  },
  {
   "cell_type": "markdown",
   "id": "5af1cc64",
   "metadata": {},
   "source": [
    "# Imports"
   ]
  },
  {
   "cell_type": "code",
   "execution_count": 2,
   "id": "060f0cd4",
   "metadata": {},
   "outputs": [],
   "source": [
    "import cv2 as cv\n",
    "import numpy as np\n",
    "from numpy import sqrt"
   ]
  },
  {
   "cell_type": "markdown",
   "id": "64b00984",
   "metadata": {},
   "source": [
    "# Open the image we want to noise"
   ]
  },
  {
   "cell_type": "code",
   "execution_count": 3,
   "id": "7d195a55",
   "metadata": {},
   "outputs": [],
   "source": [
    "image = cv.imread('number.jpg', cv.IMREAD_GRAYSCALE)\n",
    "\n",
    "cv.imshow(\"Number Image\", image)\n",
    "cv.waitKey(0)\n",
    "cv.destroyAllWindows()"
   ]
  },
  {
   "cell_type": "markdown",
   "id": "3946bdcf",
   "metadata": {},
   "source": [
    "# Schedule"
   ]
  },
  {
   "cell_type": "code",
   "execution_count": 4,
   "id": "7edde277",
   "metadata": {},
   "outputs": [],
   "source": [
    "def beta(t):\n",
    "    return t"
   ]
  },
  {
   "cell_type": "markdown",
   "id": "32a05de8",
   "metadata": {},
   "source": [
    "# Epsilon\n",
    "\n",
    "This function returns a \n",
    "\n",
    "Returns a matrix with y by x size"
   ]
  },
  {
   "cell_type": "code",
   "execution_count": 5,
   "id": "07f8917d",
   "metadata": {},
   "outputs": [],
   "source": [
    "def epsilon(y, x):\n",
    "    sample_matrix = np.random.normal(loc=0, scale=0.3, size=(y, x)).reshape(y, -1)\n",
    "    \n",
    "    return sample_matrix"
   ]
  },
  {
   "cell_type": "markdown",
   "id": "905717a6",
   "metadata": {},
   "source": [
    "Display noise from epsilon"
   ]
  },
  {
   "cell_type": "code",
   "execution_count": 6,
   "id": "2a663379",
   "metadata": {},
   "outputs": [],
   "source": [
    "normal_matrix = epsilon(2, 2)\n",
    "\n",
    "min_value = np.min(normal_matrix)\n",
    "max_value = np.max(normal_matrix)\n",
    "normalized_matrix = (normal_matrix - min_value) / (max_value - min_value)\n",
    "\n",
    "grayscale_image = (normalized_matrix * 255).astype(np.uint8)\n",
    "\n",
    "cv.imshow(\"Normalized Normal Distribution\", grayscale_image)\n",
    "cv.waitKey(0)\n",
    "cv.destroyAllWindows()"
   ]
  },
  {
   "cell_type": "markdown",
   "id": "7bd0cec4",
   "metadata": {},
   "source": [
    "Noising function"
   ]
  },
  {
   "cell_type": "code",
   "execution_count": 7,
   "id": "b260b1a4",
   "metadata": {},
   "outputs": [],
   "source": [
    "def noise(image, t):\n",
    "    alpha_t = 1 - beta(t)\n",
    "\n",
    "    num_rows = len(image)\n",
    "    num_cols = len(image[0])\n",
    "\n",
    "    sample = epsilon(num_rows, num_cols)\n",
    "    result = sqrt(alpha_t) * image + sqrt(1 - alpha_t) * sample\n",
    "\n",
    "    return np.clip(result, -1, 1)\n",
    "\n",
    "    "
   ]
  },
  {
   "cell_type": "markdown",
   "id": "a84ce3a7",
   "metadata": {},
   "source": [
    "normalize and to_display"
   ]
  },
  {
   "cell_type": "code",
   "execution_count": 8,
   "id": "e64374b2",
   "metadata": {},
   "outputs": [],
   "source": [
    "def normalize(image):\n",
    "    return image / 127.5 - 1"
   ]
  },
  {
   "cell_type": "code",
   "execution_count": 9,
   "id": "0f9c6894",
   "metadata": {},
   "outputs": [],
   "source": [
    "def to_display(image):\n",
    "    return (image * 127.5 + 127.5).astype(np.uint8)"
   ]
  },
  {
   "cell_type": "code",
   "execution_count": 18,
   "id": "52031e11",
   "metadata": {},
   "outputs": [
    {
     "name": "stdout",
     "output_type": "stream",
     "text": [
      "0\n",
      "1\n",
      "2\n",
      "3\n",
      "4\n",
      "5\n",
      "6\n",
      "7\n",
      "8\n",
      "9\n"
     ]
    }
   ],
   "source": [
    "image = cv.imread('number.jpg', cv.IMREAD_GRAYSCALE)\n",
    "\n",
    "for x in range(0, 10):\n",
    "    print(x)\n",
    "    x = x/10\n",
    "    \n",
    "    normalized_input = normalize(image)\n",
    "    normalized_noised = noise(normalized_input, x)\n",
    "\n",
    "    noised = to_display(normalized_noised)\n",
    "    image = noised\n",
    "\n",
    "    count_brightness(noised, str(x))\n",
    "\n",
    "    cv.imshow(\"Slightly noisy\", noised)\n",
    "    cv.waitKey(0)\n",
    "    cv.destroyAllWindows()\n",
    "\n",
    "# image = cv.imread('number.jpg', cv.IMREAD_GRAYSCALE)\n",
    "# prev = normalize(image)\n",
    "# count_columns = []\n",
    "# for x in range(0, 10):\n",
    "#     count = [0 for x in range(0, 256)]\n",
    "#     x = x/10\n",
    "#     prev = noise(prev, x)\n",
    "\n",
    "#     for row in to_display(prev):\n",
    "#         for pixel in row:\n",
    "#             count[pixel] += 1\n",
    "    \n",
    "#     count_columns.append(count)\n",
    "\n",
    "# f = open('out.csv', 'a')\n",
    "# for x in range(0, 256):\n",
    "#     f.write(str(x) + ',')\n",
    "#     for col in count_columns:\n",
    "#         f.write(str(col[x]) + ',')\n",
    "#     f.write('\\n')\n",
    "# f.close()\n",
    "    \n"
   ]
  },
  {
   "cell_type": "code",
   "execution_count": 16,
   "id": "eb9e5969",
   "metadata": {},
   "outputs": [],
   "source": [
    "def count_brightness(image, filename):\n",
    "    count = [0 for _ in range(0, 256)]\n",
    "\n",
    "    for row in image:\n",
    "        for pixel in row:\n",
    "            count[pixel] += 1\n",
    "        \n",
    "    f = open(filename + '.csv', 'w')\n",
    "    for x in range(0, 256):\n",
    "        f.write(str(x) + ',')\n",
    "        f.write(str(count[x]) + ',')\n",
    "        f.write('\\n')\n",
    "    f.close()"
   ]
  }
 ],
 "metadata": {
  "kernelspec": {
   "display_name": "env",
   "language": "python",
   "name": "python3"
  },
  "language_info": {
   "codemirror_mode": {
    "name": "ipython",
    "version": 3
   },
   "file_extension": ".py",
   "mimetype": "text/x-python",
   "name": "python",
   "nbconvert_exporter": "python",
   "pygments_lexer": "ipython3",
   "version": "3.12.2"
  }
 },
 "nbformat": 4,
 "nbformat_minor": 5
}
