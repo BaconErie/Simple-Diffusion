{
  "metadata": {
    "kernelspec": {
      "display_name": "Python 3",
      "name": "python3"
    },
    "language_info": {
      "name": "python",
      "version": "3.10.13",
      "mimetype": "text/x-python",
      "codemirror_mode": {
        "name": "ipython",
        "version": 3
      },
      "pygments_lexer": "ipython3",
      "nbconvert_exporter": "python",
      "file_extension": ".py"
    },
    "kaggle": {
      "accelerator": "gpu",
      "dataSources": [],
      "dockerImageVersionId": 30699,
      "isInternetEnabled": true,
      "language": "python",
      "sourceType": "notebook",
      "isGpuEnabled": true
    },
    "colab": {
      "provenance": [],
      "gpuType": "T4"
    },
    "accelerator": "GPU"
  },
  "nbformat_minor": 0,
  "nbformat": 4,
  "cells": [
    {
      "cell_type": "markdown",
      "source": [
        "# Understanding Diffusion\n",
        "\n",
        "This notebook contains all the code needed to train and run a diffusion model that creates numbers\n",
        "\n",
        "The model will be trained on the MNIST dataset.\n",
        "\n",
        "The model is implemented with PyTorch. If you are using the Kaggle notebook, all dependencies should have been installed already."
      ],
      "metadata": {
        "id": "Y0AxQJeIuR0J"
      }
    },
    {
      "cell_type": "markdown",
      "source": [
        "# Imports"
      ],
      "metadata": {
        "id": "pUkCp2M3uR0Q"
      }
    },
    {
      "cell_type": "code",
      "source": [
        "import torch\n",
        "import torchvision\n",
        "import torchvision.transforms as transforms\n",
        "import matplotlib.pyplot as plt\n",
        "import numpy as np\n",
        "import torch.nn as nn\n",
        "import torch.nn.functional as F\n",
        "import torch.optim as optim\n",
        "from math import cos, pi\n",
        "from random import randint"
      ],
      "metadata": {
        "execution": {
          "iopub.status.busy": "2024-05-14T21:54:18.765398Z",
          "iopub.execute_input": "2024-05-14T21:54:18.765773Z",
          "iopub.status.idle": "2024-05-14T21:54:18.771654Z",
          "shell.execute_reply.started": "2024-05-14T21:54:18.765742Z",
          "shell.execute_reply": "2024-05-14T21:54:18.770512Z"
        },
        "trusted": true,
        "id": "86bZo-F6uR0U"
      },
      "execution_count": 1,
      "outputs": []
    },
    {
      "cell_type": "code",
      "source": [
        "print(torch.cuda.is_available())"
      ],
      "metadata": {
        "execution": {
          "iopub.status.busy": "2024-05-14T21:52:11.318886Z",
          "iopub.execute_input": "2024-05-14T21:52:11.319678Z",
          "iopub.status.idle": "2024-05-14T21:52:11.351142Z",
          "shell.execute_reply.started": "2024-05-14T21:52:11.319644Z",
          "shell.execute_reply": "2024-05-14T21:52:11.350050Z"
        },
        "trusted": true,
        "colab": {
          "base_uri": "https://localhost:8080/"
        },
        "id": "Udw96Gc_uR0X",
        "outputId": "52b78454-f984-42db-8e57-e1014bbac47f"
      },
      "execution_count": 2,
      "outputs": [
        {
          "output_type": "stream",
          "name": "stdout",
          "text": [
            "True\n"
          ]
        }
      ]
    },
    {
      "cell_type": "markdown",
      "source": [
        "# Helper functions\n",
        "\n",
        "Contains mostly visualization functions"
      ],
      "metadata": {
        "id": "VmvRsAahuR0Z"
      }
    },
    {
      "cell_type": "code",
      "source": [
        "def display_batch(batch, nrow=8, min=None, max=None):\n",
        "    if not min:\n",
        "        min = batch.min()\n",
        "\n",
        "    if not max:\n",
        "        max = batch.max()\n",
        "\n",
        "    batch = (batch - min) / (max - min)\n",
        "    img = torchvision.utils.make_grid(batch, nrow=nrow)\n",
        "    npimg = img.numpy()\n",
        "    plt.imshow(np.transpose(npimg, (1, 2, 0)))"
      ],
      "metadata": {
        "execution": {
          "iopub.status.busy": "2024-05-14T21:52:16.872254Z",
          "iopub.execute_input": "2024-05-14T21:52:16.873054Z",
          "iopub.status.idle": "2024-05-14T21:52:16.879473Z",
          "shell.execute_reply.started": "2024-05-14T21:52:16.873017Z",
          "shell.execute_reply": "2024-05-14T21:52:16.878384Z"
        },
        "trusted": true,
        "id": "QWEpFaECuR0a"
      },
      "execution_count": null,
      "outputs": []
    },
    {
      "cell_type": "markdown",
      "source": [
        "# Forward diffusion\n",
        "\n",
        "Contains all the functions we need to noise an image"
      ],
      "metadata": {
        "id": "mtHLV5qNuR0b"
      }
    },
    {
      "cell_type": "code",
      "source": [
        "MAX_TIMESTEPS = 100"
      ],
      "metadata": {
        "execution": {
          "iopub.status.busy": "2024-05-14T21:52:20.173755Z",
          "iopub.execute_input": "2024-05-14T21:52:20.174179Z",
          "iopub.status.idle": "2024-05-14T21:52:20.179104Z",
          "shell.execute_reply.started": "2024-05-14T21:52:20.174147Z",
          "shell.execute_reply": "2024-05-14T21:52:20.178063Z"
        },
        "trusted": true,
        "id": "RSMdqGsduR0c"
      },
      "execution_count": null,
      "outputs": []
    },
    {
      "cell_type": "markdown",
      "source": [
        "## Epsilon\n",
        "\n",
        "This is the noise that we apply to the image. It is a matrix of values, where\n",
        "each number is a random number. The probability of getting each number is\n",
        "based on a normal distribution; Values closer to zero have a higher chance of\n",
        "getting chosen.\n",
        "\n",
        "The size of the tensor generated is deteremined by tensor_size"
      ],
      "metadata": {
        "id": "FikzO9FVuR0d"
      }
    },
    {
      "cell_type": "code",
      "source": [
        "def epsilon(tensor_size):\n",
        "    std_dev = 0.3 # Sampled values will mostly be between -1 and 1\n",
        "    return torch.randn(tensor_size) * std_dev"
      ],
      "metadata": {
        "_uuid": "8f2839f25d086af736a60e9eeb907d3b93b6e0e5",
        "_cell_guid": "b1076dfc-b9ad-4769-8c92-a6c4dae69d19",
        "execution": {
          "iopub.status.busy": "2024-05-14T21:52:22.551773Z",
          "iopub.execute_input": "2024-05-14T21:52:22.552783Z",
          "iopub.status.idle": "2024-05-14T21:52:22.558207Z",
          "shell.execute_reply.started": "2024-05-14T21:52:22.552734Z",
          "shell.execute_reply": "2024-05-14T21:52:22.557176Z"
        },
        "trusted": true,
        "id": "aD13d4x5uR0e"
      },
      "execution_count": null,
      "outputs": []
    },
    {
      "cell_type": "markdown",
      "source": [
        "Generate some noise and show it"
      ],
      "metadata": {
        "id": "VaI3ALX9uR0f"
      }
    },
    {
      "cell_type": "code",
      "source": [
        "random = epsilon((4, 1, 28, 28))\n",
        "\n",
        "display_batch(random)"
      ],
      "metadata": {
        "execution": {
          "iopub.status.busy": "2024-05-14T21:52:24.659101Z",
          "iopub.execute_input": "2024-05-14T21:52:24.659505Z",
          "iopub.status.idle": "2024-05-14T21:52:25.016871Z",
          "shell.execute_reply.started": "2024-05-14T21:52:24.659473Z",
          "shell.execute_reply": "2024-05-14T21:52:25.015647Z"
        },
        "trusted": true,
        "id": "vZOFt0n9uR0g",
        "outputId": "450f7c44-5785-4bf2-f6ee-49ae910a2f69"
      },
      "execution_count": null,
      "outputs": [
        {
          "output_type": "display_data",
          "data": {
            "text/plain": "<Figure size 640x480 with 1 Axes>",
            "image/png": "[encoded data removed]"
          },
          "metadata": {}
        }
      ]
    },
    {
      "cell_type": "markdown",
      "source": [
        "## Alpha Bar\n",
        "\n",
        "In the noise process equation, alpha essentially determines **how much to noise\n",
        "the image** at a particular timestep, t. Lower alpha bar is more noise/less original image\n",
        "\n",
        "You can modify how alpha bar changes over time to change how quickly the image\n",
        "gets noisy over time; this is called the **noise schedule**.\n",
        "\n",
        "In the original diffusion model paper, the researchers used a simple linear\n",
        "noise schedule. However, the schedule quickly made the image noise up\n",
        "even before we reached max timesteps.\n",
        "\n",
        "Instead, of a linear schedule, this code uses a cosine schedule based on\n",
        "Nichol and Dhariwal's work at OpenAI (https://arxiv.org/abs/2102.09672)\n",
        "\n",
        "You can see tests between linear vs cosine schedule at\n",
        "https://hackmd.io/@BaconErie/lin-vs-cos-schedule (might be a bit complicated)"
      ],
      "metadata": {
        "id": "olSGOlu3uR0h"
      }
    },
    {
      "cell_type": "code",
      "source": [
        "def alpha_bar(t):\n",
        "    f_t = cos( ((t/MAX_TIMESTEPS + 0.008)/(1+0.008))  * (pi/2) ) ** 2\n",
        "    f_0 = cos( ((0.008)/(1+0.008))  * (pi/2) ) ** 2\n",
        "\n",
        "    return torch.tensor(f_t/f_0)"
      ],
      "metadata": {
        "execution": {
          "iopub.status.busy": "2024-05-14T21:58:59.237409Z",
          "iopub.execute_input": "2024-05-14T21:58:59.237784Z",
          "iopub.status.idle": "2024-05-14T21:58:59.244394Z",
          "shell.execute_reply.started": "2024-05-14T21:58:59.237750Z",
          "shell.execute_reply": "2024-05-14T21:58:59.243293Z"
        },
        "trusted": true,
        "id": "Zm6HudUDuR0i"
      },
      "execution_count": null,
      "outputs": []
    },
    {
      "cell_type": "markdown",
      "source": [
        "## Noise function\n",
        "\n",
        "\n",
        "This is the star of the show, and implements the main noising equation.\n",
        "\n",
        "Given:\n",
        "\n",
        "- Batch of images\n",
        "- Batch of noise\n",
        "- Timestep t\n",
        "\n",
        "It will return a batch of noised images that can then be used to train the denoiser model."
      ],
      "metadata": {
        "id": "sfaK6hQiuR0j"
      }
    },
    {
      "cell_type": "code",
      "source": [
        "def noise(image, noise, t):\n",
        "    num_rows = len(image)\n",
        "    num_cols = len(image[0])\n",
        "\n",
        "    result = torch.sqrt(alpha_bar(t)) * image + torch.sqrt(1 - alpha_bar(t)) * noise\n",
        "\n",
        "    return torch.clamp(result, min=-1, max=1)"
      ],
      "metadata": {
        "execution": {
          "iopub.status.busy": "2024-05-14T21:59:00.581326Z",
          "iopub.execute_input": "2024-05-14T21:59:00.581711Z",
          "iopub.status.idle": "2024-05-14T21:59:00.588126Z",
          "shell.execute_reply.started": "2024-05-14T21:59:00.581679Z",
          "shell.execute_reply": "2024-05-14T21:59:00.586877Z"
        },
        "trusted": true,
        "id": "xB9WMMi_uR0k"
      },
      "execution_count": null,
      "outputs": []
    },
    {
      "cell_type": "markdown",
      "source": [
        "To demonstrate, here we load a batch of images from the MNIST dataset and then show the images, the noise, and then the noised images at timestep t/T = 0.75"
      ],
      "metadata": {
        "id": "d3z4gMytuR0l"
      }
    },
    {
      "cell_type": "code",
      "source": [
        "# First, we will transform the images a bit so that we can work with them\n",
        "\n",
        "class ScaleToMinusOneToOne(object):\n",
        "    def __call__(self, tensor):\n",
        "        return tensor * 2.0 - 1.0\n",
        "\n",
        "transform = transforms.Compose([\n",
        "    transforms.ToTensor(),          # Convert PIL image to tensor\n",
        "    ScaleToMinusOneToOne()         # Scale tensor values to range from -1 to 1\n",
        "])\n",
        "\n",
        "MNIST_dataset = torchvision.datasets.MNIST(root='./data', train=True,\n",
        "                                        download=True, transform=transform)\n",
        "\n",
        "MNIST_dataloader = torch.utils.data.DataLoader(MNIST_dataset, batch_size=4,\n",
        "                                          shuffle=True, num_workers=2)\n",
        "\n",
        "# Then get some images\n",
        "\n",
        "images, labels = next(iter(MNIST_dataloader))\n",
        "\n",
        "# Noise them\n",
        "\n",
        "noise_sample = epsilon(images.shape)\n",
        "noised_images = noise(images, noise_sample, torch.tensor(0.75 * MAX_TIMESTEPS))\n",
        "\n",
        "\n",
        "# Take our images, noise, and noised images and put them into a large batch of images, and then display them\n",
        "display = torch.cat((images, noise_sample, noised_images), dim=0)\n",
        "\n",
        "display_batch(display, nrow=4, min=-1, max=1)"
      ],
      "metadata": {
        "execution": {
          "iopub.status.busy": "2024-05-14T21:59:07.611356Z",
          "iopub.execute_input": "2024-05-14T21:59:07.611767Z",
          "iopub.status.idle": "2024-05-14T21:59:08.082478Z",
          "shell.execute_reply.started": "2024-05-14T21:59:07.611728Z",
          "shell.execute_reply": "2024-05-14T21:59:08.081320Z"
        },
        "trusted": true,
        "id": "OIFL0SSzuR0m",
        "outputId": "3e913080-8aaf-46db-92fb-06169c309f6d"
      },
      "execution_count": null,
      "outputs": [
        {
          "output_type": "display_data",
          "data": {
            "text/plain": "<Figure size 640x480 with 1 Axes>",
            "image/png": "[encoded data removed]"
          },
          "metadata": {}
        }
      ]
    },
    {
      "cell_type": "markdown",
      "source": [
        "# Reverse diffusion\n",
        "\n",
        "Now that we can noise images, it's time to write the code that will turn noise back into images.\n",
        "\n",
        "We first have a machine learning model predict the noise that's in an image, and then we subtract part of the predicted noise from the noisy image, using the same schedule we used during the forward diffusion/noising process"
      ],
      "metadata": {
        "id": "0fGo9unduR0p"
      }
    },
    {
      "cell_type": "markdown",
      "source": [
        "## Model that predicts noise\n",
        "\n",
        "This is the model that actually predicts the noise, and is the most important component of the reverse diffusion process.\n",
        "\n",
        "In the original diffusion model paper, a modified UNet is used, and state-of-the-art diffusion programs such as Stable Diffusion build upon the UNet model and change out specific components in the model.\n",
        "\n",
        "This notebook, however, will use a more simple model to predict noise. Admittedly, its design is quite arbitrary, but since we are generating small, grayscale images, the model should work decently well, or at least give something that sort of looks like a number.\n",
        "\n",
        "# # PUT A ARCHITECTURE DIAGRAM EHRE"
      ],
      "metadata": {
        "id": "5yXVE92cuR0q"
      }
    },
    {
      "cell_type": "code",
      "source": [
        "'''\n",
        "RES BLOCK\n",
        "\n",
        "This bunch of layers will be used later on in the main NoisePredictor model.\n",
        "\n",
        "It is an attempt at implementing a residual block that can be found in ResNets.\n",
        "\n",
        "The key part of a residual block is adding the input back onto the outputs of the weight layers\n",
        "'''\n",
        "class ResBlock(nn.Module):\n",
        "    def __init__(self, input_channels, output_channels):\n",
        "        super(ResBlock, self).__init__()\n",
        "        self.convs = nn.Sequential(\n",
        "            nn.Conv2d(in_channels=input_channels, out_channels=output_channels, kernel_size=3, padding='same'),\n",
        "            nn.BatchNorm2d(6),\n",
        "            nn.ReLU(),\n",
        "            nn.Conv2d(in_channels=output_channels, out_channels=output_channels, kernel_size=3, padding='same'),\n",
        "            nn.BatchNorm2d(6)\n",
        "        )\n",
        "\n",
        "        # Note: Kind of useless if input channels = output channels, adds extra parameters for no reason\n",
        "        self.increase_channels = nn.Conv2d(in_channels=input_channels, out_channels=output_channels, kernel_size=1, padding=0, stride=1)\n",
        "\n",
        "    def forward(self, x):\n",
        "        out = self.convs(x)\n",
        "\n",
        "        more_channel_x = self.increase_channels(x)\n",
        "        return out + more_channel_x\n",
        "\n",
        "\n",
        "'''\n",
        "NOISE PREDICTION\n",
        "\n",
        "Main model that is used to predict noise\n",
        "'''\n",
        "class NoisePredictor(nn.Module):\n",
        "    def __init__(self):\n",
        "        super(NoisePredictor, self).__init__()\n",
        "        self.res_block1 = ResBlock(1, 6)\n",
        "        self.res_block2 = ResBlock(6, 6)\n",
        "        self.res_block3 = ResBlock(6, 6)\n",
        "\n",
        "        self.channel_reduction = nn.Conv2d(in_channels=6, out_channels=1, kernel_size=1, stride=1, padding=0)\n",
        "\n",
        "\n",
        "    def forward(self, x):\n",
        "        x = self.res_block1(x)\n",
        "        x = self.res_block2(x)\n",
        "        x = self.res_block3(x)\n",
        "        x = self.channel_reduction(x)\n",
        "\n",
        "        return torch.tanh(x)"
      ],
      "metadata": {
        "execution": {
          "iopub.status.busy": "2024-05-14T21:59:11.560855Z",
          "iopub.execute_input": "2024-05-14T21:59:11.561261Z",
          "iopub.status.idle": "2024-05-14T21:59:11.574287Z",
          "shell.execute_reply.started": "2024-05-14T21:59:11.561226Z",
          "shell.execute_reply": "2024-05-14T21:59:11.573187Z"
        },
        "trusted": true,
        "id": "Z5WyHz91uR0r"
      },
      "execution_count": null,
      "outputs": []
    },
    {
      "cell_type": "markdown",
      "source": [
        "Let's test the model to make sure the input and output dimensions match.\n",
        "\n",
        "And, just for fun, let's look at the input images and the output images. Since the model hasn't been trained, all the weights are random, and so the output images are completely useless."
      ],
      "metadata": {
        "id": "Qs3o8knXuR0t"
      }
    },
    {
      "cell_type": "code",
      "source": [
        "shape_test = NoisePredictor() # Create a new NoisePredictor model\n",
        "\n",
        "images, labels = next(iter(MNIST_dataloader)) # We will get some images using the dataloader defined above\n",
        "\n",
        "output = shape_test(images)\n",
        "\n",
        "# Print the shapes of the input images and output\n",
        "# They should match\n",
        "print(images.shape)\n",
        "print(output.shape)\n",
        "\n",
        "display = torch.cat((images, output), dim=0)\n",
        "\n",
        "display_batch(display, nrow=4, min=-1, max=1)"
      ],
      "metadata": {
        "execution": {
          "iopub.status.busy": "2024-05-14T21:59:14.748730Z",
          "iopub.execute_input": "2024-05-14T21:59:14.749710Z",
          "iopub.status.idle": "2024-05-14T21:59:15.137305Z",
          "shell.execute_reply.started": "2024-05-14T21:59:14.749674Z",
          "shell.execute_reply": "2024-05-14T21:59:15.136056Z"
        },
        "trusted": true,
        "id": "stcft5I-uR0t",
        "outputId": "159bcea7-fbae-45d4-db64-90b052302b34"
      },
      "execution_count": null,
      "outputs": [
        {
          "name": "stdout",
          "text": "torch.Size([4, 1, 28, 28])\ntorch.Size([4, 1, 28, 28])\n",
          "output_type": "stream"
        },
        {
          "output_type": "display_data",
          "data": {
            "text/plain": "<Figure size 640x480 with 1 Axes>",
            "image/png": "[encoded data removed]"
          },
          "metadata": {}
        }
      ]
    },
    {
      "cell_type": "markdown",
      "source": [
        "## Noise remover"
      ],
      "metadata": {
        "id": "9pQUiYr3uR0v"
      }
    },
    {
      "cell_type": "markdown",
      "source": [
        "# Training\n",
        "\n",
        "Before we can use the diffusion model, we have to train the noise predictor."
      ],
      "metadata": {
        "id": "NvlSBrXOuR0v"
      }
    },
    {
      "cell_type": "markdown",
      "source": [
        "## Getting the data\n",
        "\n",
        "We will use the MNIST dataset to train our model. We will noise the images later on when we train the model."
      ],
      "metadata": {
        "id": "lBc7RXrcuR0w"
      }
    },
    {
      "cell_type": "code",
      "source": [
        "class ScaleToMinusOneToOne(object):\n",
        "    def __call__(self, tensor):\n",
        "        return tensor * 2.0 - 1.0\n",
        "\n",
        "transform = transforms.Compose([\n",
        "    transforms.ToTensor(),          # Convert PIL image to tensor\n",
        "    ScaleToMinusOneToOne()         # Scale tensor values to range from -1 to 1\n",
        "])\n",
        "\n",
        "trainset = torchvision.datasets.MNIST(root='./data', train=True,\n",
        "                                        download=True, transform=transform)\n",
        "\n",
        "trainloader = torch.utils.data.DataLoader(trainset, batch_size=4,\n",
        "                                          shuffle=True, num_workers=2)\n",
        "\n",
        "\n",
        "\n",
        "\n",
        "testset = torchvision.datasets.MNIST(root='./data', train=False,\n",
        "                                        download=True, transform=transform)\n",
        "\n",
        "trainloader = torch.utils.data.DataLoader(testset, batch_size=4,\n",
        "                                          shuffle=False, num_workers=2)"
      ],
      "metadata": {
        "execution": {
          "iopub.status.busy": "2024-05-14T21:59:18.800395Z",
          "iopub.execute_input": "2024-05-14T21:59:18.800806Z",
          "iopub.status.idle": "2024-05-14T21:59:18.890886Z",
          "shell.execute_reply.started": "2024-05-14T21:59:18.800769Z",
          "shell.execute_reply": "2024-05-14T21:59:18.889647Z"
        },
        "trusted": true,
        "id": "PNT0Bzd4uR0x"
      },
      "execution_count": null,
      "outputs": []
    },
    {
      "cell_type": "markdown",
      "source": [
        "# Create a model instance"
      ],
      "metadata": {
        "id": "TiMiaOoruR0y"
      }
    },
    {
      "cell_type": "code",
      "source": [
        "noise_predictor = NoisePredictor()"
      ],
      "metadata": {
        "execution": {
          "iopub.status.busy": "2024-05-14T21:59:21.522915Z",
          "iopub.execute_input": "2024-05-14T21:59:21.523671Z",
          "iopub.status.idle": "2024-05-14T21:59:21.533218Z",
          "shell.execute_reply.started": "2024-05-14T21:59:21.523639Z",
          "shell.execute_reply": "2024-05-14T21:59:21.532039Z"
        },
        "trusted": true,
        "id": "nMQiXC8tuR0y"
      },
      "execution_count": null,
      "outputs": []
    },
    {
      "cell_type": "markdown",
      "source": [
        "# Loss function and optimizer\n",
        "\n",
        "We used MSE loss and stochastic gradient descent to train the model. You can experiment with other loss functions and see how that changes the accuracy of the model."
      ],
      "metadata": {
        "id": "JRd43N2duR0z"
      }
    },
    {
      "cell_type": "code",
      "source": [
        "criterion = nn.MSELoss()\n",
        "optimizer = optim.SGD(noise_predictor.parameters(), lr=0.001, momentum=0.9)"
      ],
      "metadata": {
        "execution": {
          "iopub.status.busy": "2024-05-14T21:59:24.507031Z",
          "iopub.execute_input": "2024-05-14T21:59:24.507702Z",
          "iopub.status.idle": "2024-05-14T21:59:24.513325Z",
          "shell.execute_reply.started": "2024-05-14T21:59:24.507663Z",
          "shell.execute_reply": "2024-05-14T21:59:24.512234Z"
        },
        "trusted": true,
        "id": "_8O8X6pHuR00"
      },
      "execution_count": null,
      "outputs": []
    },
    {
      "cell_type": "markdown",
      "source": [
        "## Training loop\n",
        "\n",
        "Finally, here is the code that actually trains the model"
      ],
      "metadata": {
        "id": "j3VpYghxuR01"
      }
    },
    {
      "cell_type": "code",
      "source": [
        "device = torch.device(\"cuda\" if torch.cuda.is_available() else \"cpu\")\n",
        "noise_predictor.to(device)\n",
        "for epoch in range(20):  # loop over the dataset multiple times\n",
        "\n",
        "    running_loss = 0.0\n",
        "    for i, data in enumerate(trainloader, 0):\n",
        "        # Get the images\n",
        "        images, _ = data\n",
        "\n",
        "        images = images.to(device) # Move to the GPU if GPU is availible\n",
        "\n",
        "        # Choose a random timestep\n",
        "        timestep = randint(0, MAX_TIMESTEPS+1)\n",
        "\n",
        "        # Noise the images, and also save the noise\n",
        "        sample_noise = epsilon(images.shape).to(device)\n",
        "        noised_images = noise(images, sample_noise, timestep).to(device)\n",
        "\n",
        "        # zero the parameter gradients\n",
        "        optimizer.zero_grad()\n",
        "\n",
        "        # forward + backward + optimize\n",
        "        predicted_noise = noise_predictor(noised_images).to(device)\n",
        "        loss = criterion(predicted_noise, sample_noise).to(device)\n",
        "        loss.backward()\n",
        "        optimizer.step()\n",
        "\n",
        "        # print statistics\n",
        "        running_loss += loss.item()\n",
        "        if i % 2000 == 1999:    # print every 2000 mini-batches\n",
        "            print('[%d, %5d] loss: %.3f' %\n",
        "                  (epoch + 1, i + 1, running_loss / 2000))\n",
        "            running_loss = 0.0\n",
        "\n",
        "print('Finished Training')\n",
        "\n",
        "# Save the model\n",
        "torch.save(noise_predictor.state_dict(), 'noise_predictor.pt')\n"
      ],
      "metadata": {
        "execution": {
          "iopub.status.busy": "2024-05-14T22:00:56.259950Z",
          "iopub.execute_input": "2024-05-14T22:00:56.260426Z",
          "iopub.status.idle": "2024-05-14T22:02:14.876213Z",
          "shell.execute_reply.started": "2024-05-14T22:00:56.260387Z",
          "shell.execute_reply": "2024-05-14T22:02:14.874870Z"
        },
        "trusted": true,
        "id": "01m7BNxiuR02",
        "outputId": "ffb6dd5a-a037-4aad-c019-64a4fab67f52"
      },
      "execution_count": null,
      "outputs": [
        {
          "name": "stdout",
          "text": "[1,  2000] loss: 0.029\n[2,  2000] loss: 0.027\n[3,  2000] loss: 0.027\n[4,  2000] loss: 0.025\n[5,  2000] loss: 0.025\nFinished Training\n",
          "output_type": "stream"
        }
      ]
    },
    {
      "cell_type": "markdown",
      "source": [
        "Let's test the model!"
      ],
      "metadata": {
        "id": "pHiXtBNUuR03"
      }
    },
    {
      "cell_type": "code",
      "source": [
        "images, labels = next(iter(MNIST_dataloader))\n",
        "noise_predictor.to('cpu')\n",
        "noise_sample = epsilon(images.shape)\n",
        "noised_images = noise(images, noise_sample, torch.tensor(0.75 * MAX_TIMESTEPS))\n",
        "predicted_noise = noise_predictor(noised_images)\n",
        "\n",
        "display = torch.cat((images, noised_images, noise_sample, predicted_noise), dim=0)\n",
        "display_batch(display, nrow=4)"
      ],
      "metadata": {
        "trusted": true,
        "id": "ZNUa3aN7uR04"
      },
      "execution_count": null,
      "outputs": []
    },
    {
      "cell_type": "markdown",
      "source": [
        "# Final program"
      ],
      "metadata": {
        "id": "uSZ6AyBauR04"
      }
    }
  ]
}