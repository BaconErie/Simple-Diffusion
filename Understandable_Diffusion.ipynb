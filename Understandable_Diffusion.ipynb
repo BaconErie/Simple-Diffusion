{
  "cells": [
    {
      "cell_type": "markdown",
      "metadata": {
        "id": "Y0AxQJeIuR0J"
      },
      "source": [
        "# Understanding Diffusion\n",
        "\n",
        "This notebook contains all the code needed to train and run a diffusion model that creates numbers\n",
        "\n",
        "The model will be trained on the MNIST dataset.\n",
        "\n",
        "The model is implemented with PyTorch. If you are using the Kaggle notebook, all dependencies should have been installed already."
      ]
    },
    {
      "cell_type": "markdown",
      "metadata": {
        "id": "pUkCp2M3uR0Q"
      },
      "source": [
        "# Imports"
      ]
    },
    {
      "cell_type": "code",
      "execution_count": null,
      "metadata": {
        "id": "86bZo-F6uR0U"
      },
      "outputs": [],
      "source": [
        "import torch\n",
        "import torchvision\n",
        "import torchvision.transforms as transforms\n",
        "import matplotlib.pyplot as plt\n",
        "import numpy as np\n",
        "import torch.nn as nn\n",
        "import torch.nn.functional as F\n",
        "import torch.optim as optim\n",
        "from math import cos, pi\n",
        "from random import randint"
      ]
    },
    {
      "cell_type": "markdown",
      "metadata": {
        "id": "VmvRsAahuR0Z"
      },
      "source": [
        "# Helper functions\n",
        "\n",
        "Contains mostly visualization functions"
      ]
    },
    {
      "cell_type": "code",
      "execution_count": null,
      "metadata": {
        "id": "QWEpFaECuR0a"
      },
      "outputs": [],
      "source": [
        "def display_batch(batch, nrow=8, min=None, max=None):\n",
        "    if not min:\n",
        "        min = batch.min()\n",
        "\n",
        "    if not max:\n",
        "        max = batch.max()\n",
        "\n",
        "    batch = (batch - min) / (max - min)\n",
        "    img = torchvision.utils.make_grid(batch, nrow=nrow)\n",
        "    npimg = img.numpy()\n",
        "    plt.imshow(np.transpose(npimg, (1, 2, 0)))"
      ]
    },
    {
      "cell_type": "markdown",
      "metadata": {
        "id": "mtHLV5qNuR0b"
      },
      "source": [
        "# Forward diffusion\n",
        "\n",
        "Contains all the functions we need to noise an image"
      ]
    },
    {
      "cell_type": "code",
      "execution_count": null,
      "metadata": {
        "id": "RSMdqGsduR0c"
      },
      "outputs": [],
      "source": [
        "MAX_TIMESTEPS = 100"
      ]
    },
    {
      "cell_type": "markdown",
      "metadata": {
        "id": "FikzO9FVuR0d"
      },
      "source": [
        "## Epsilon\n",
        "\n",
        "This is the noise that we apply to the image. It is a matrix of values, where\n",
        "each number is a random number. The probability of getting each number is\n",
        "based on a normal distribution; Values closer to zero have a higher chance of\n",
        "getting chosen.\n",
        "\n",
        "The size of the tensor generated is deteremined by tensor_size"
      ]
    },
    {
      "cell_type": "code",
      "execution_count": null,
      "metadata": {
        "id": "aD13d4x5uR0e"
      },
      "outputs": [],
      "source": [
        "def epsilon(tensor_size):\n",
        "    std_dev = 0.3 # Sampled values will mostly be between -1 and 1\n",
        "    return torch.randn(tensor_size) * std_dev"
      ]
    },
    {
      "cell_type": "markdown",
      "metadata": {
        "id": "VaI3ALX9uR0f"
      },
      "source": [
        "Generate some noise and show it"
      ]
    },
    {
      "cell_type": "code",
      "execution_count": null,
      "metadata": {
        "colab": {
          "base_uri": "https://localhost:8080/",
          "height": 194
        },
        "id": "vZOFt0n9uR0g",
        "outputId": "f0106a95-291e-4607-c900-db418c31b43e"
      },
      "outputs": [
        {
          "data": {
            "image/png": "[encoded data removed]",
            "text/plain": [
              "<Figure size 640x480 with 1 Axes>"
            ]
          },
          "metadata": {},
          "output_type": "display_data"
        }
      ],
      "source": [
        "random = epsilon((4, 1, 28, 28))\n",
        "\n",
        "display_batch(random)"
      ]
    },
    {
      "cell_type": "markdown",
      "metadata": {
        "id": "olSGOlu3uR0h"
      },
      "source": [
        "## Alpha Bar\n",
        "\n",
        "In the noise process equation, alpha essentially determines **how much to noise\n",
        "the image** at a particular timestep, t. Lower alpha bar is more noise/less original image\n",
        "\n",
        "You can modify how alpha bar changes over time to change how quickly the image\n",
        "gets noisy over time; this is called the **noise schedule**.\n",
        "\n",
        "In the original diffusion model paper, the researchers used a simple linear\n",
        "noise schedule. However, the schedule quickly made the image noise up\n",
        "even before we reached max timesteps.\n",
        "\n",
        "Instead, of a linear schedule, this code uses a cosine schedule based on\n",
        "Nichol and Dhariwal's work at OpenAI (https://arxiv.org/abs/2102.09672)\n",
        "\n",
        "You can see tests between linear vs cosine schedule at\n",
        "https://hackmd.io/@BaconErie/lin-vs-cos-schedule (might be a bit complicated)"
      ]
    },
    {
      "cell_type": "code",
      "execution_count": null,
      "metadata": {
        "id": "Zm6HudUDuR0i"
      },
      "outputs": [],
      "source": [
        "def alpha_bar(t):\n",
        "    f_t = cos( ((t/MAX_TIMESTEPS + 0.008)/(1+0.008))  * (pi/2) ) ** 2\n",
        "    f_0 = cos( ((0.008)/(1+0.008))  * (pi/2) ) ** 2\n",
        "\n",
        "    return torch.tensor(f_t/f_0)"
      ]
    },
    {
      "cell_type": "markdown",
      "metadata": {
        "id": "sfaK6hQiuR0j"
      },
      "source": [
        "## Noise function\n",
        "\n",
        "\n",
        "This is the star of the show, and implements the main noising equation.\n",
        "\n",
        "Given:\n",
        "\n",
        "- Batch of images\n",
        "- Batch of noise\n",
        "- Timestep t\n",
        "\n",
        "It will return a batch of noised images that can then be used to train the denoiser model."
      ]
    },
    {
      "cell_type": "code",
      "execution_count": null,
      "metadata": {
        "id": "xB9WMMi_uR0k"
      },
      "outputs": [],
      "source": [
        "def noise(image, noise, t):\n",
        "    num_rows = len(image)\n",
        "    num_cols = len(image[0])\n",
        "\n",
        "    result = torch.sqrt(alpha_bar(t)) * image + torch.sqrt(1 - alpha_bar(t)) * noise\n",
        "\n",
        "    return torch.clamp(result, min=-1, max=1)"
      ]
    },
    {
      "cell_type": "markdown",
      "metadata": {
        "id": "d3z4gMytuR0l"
      },
      "source": [
        "To demonstrate, here we load a batch of images from the MNIST dataset and then show the images, the noise, and then the noised images at timestep t/T = 0.75"
      ]
    },
    {
      "cell_type": "code",
      "execution_count": null,
      "metadata": {
        "colab": {
          "base_uri": "https://localhost:8080/",
          "height": 452
        },
        "id": "OIFL0SSzuR0m",
        "outputId": "f22a4c76-d56a-4357-c20e-d407abcd29c8"
      },
      "outputs": [
        {
          "name": "stderr",
          "output_type": "stream",
          "text": [
            "WARNING:matplotlib.image:Clipping input data to the valid range for imshow with RGB data ([0..1] for floats or [0..255] for integers).\n"
          ]
        },
        {
          "data": {
            "image/png": "[encoded data removed]",
            "text/plain": [
              "<Figure size 640x480 with 1 Axes>"
            ]
          },
          "metadata": {},
          "output_type": "display_data"
        }
      ],
      "source": [
        "# First, we will transform the images a bit so that we can work with them\n",
        "\n",
        "class ScaleToMinusOneToOne(object):\n",
        "    def __call__(self, tensor):\n",
        "        return tensor * 2.0 - 1.0\n",
        "\n",
        "transform = transforms.Compose([\n",
        "    transforms.ToTensor(),          # Convert PIL image to tensor\n",
        "    ScaleToMinusOneToOne()         # Scale tensor values to range from -1 to 1\n",
        "])\n",
        "\n",
        "MNIST_dataset = torchvision.datasets.MNIST(root='./data', train=True,\n",
        "                                        download=True, transform=transform)\n",
        "\n",
        "MNIST_dataloader = torch.utils.data.DataLoader(MNIST_dataset, batch_size=4,\n",
        "                                          shuffle=True, num_workers=2)\n",
        "\n",
        "# Then get some images\n",
        "\n",
        "images, labels = next(iter(MNIST_dataloader))\n",
        "\n",
        "# Noise them\n",
        "\n",
        "noise_sample = epsilon(images.shape)\n",
        "noised_images = noise(images, noise_sample, torch.tensor(0.75 * MAX_TIMESTEPS))\n",
        "\n",
        "\n",
        "# Take our images, noise, and noised images and put them into a large batch of images, and then display them\n",
        "display = torch.cat((images, noise_sample, noised_images), dim=0)\n",
        "\n",
        "display_batch(display, nrow=4, min=-1, max=1)"
      ]
    },
    {
      "cell_type": "markdown",
      "metadata": {
        "id": "0fGo9unduR0p"
      },
      "source": [
        "# Reverse diffusion\n",
        "\n",
        "Now that we can noise images, it's time to write the code that will turn noise back into images.\n",
        "\n",
        "We first have a machine learning model predict the noise that's in an image, and then we subtract part of the predicted noise from the noisy image, using the same schedule we used during the forward diffusion/noising process"
      ]
    },
    {
      "cell_type": "markdown",
      "metadata": {
        "id": "5yXVE92cuR0q"
      },
      "source": [
        "## Model that predicts noise\n",
        "\n",
        "This is the model that actually predicts the noise, and is the most important component of the reverse diffusion process.\n",
        "\n",
        "In the original diffusion model paper, a modified UNet is used, and state-of-the-art diffusion programs such as Stable Diffusion build upon the UNet model and change out specific components in the model.\n",
        "\n",
        "This notebook, however, will use a more simple model to predict noise. Admittedly, its design is quite arbitrary, but since we are generating small, grayscale images, the model should work decently well, or at least give something that sort of looks like a number.\n",
        "\n",
        "# # PUT A ARCHITECTURE DIAGRAM EHRE"
      ]
    },
    {
      "cell_type": "code",
      "execution_count": null,
      "metadata": {
        "id": "Z5WyHz91uR0r"
      },
      "outputs": [],
      "source": [
        "# '''\n",
        "# RES BLOCK\n",
        "\n",
        "# This bunch of layers will be used later on in the main NoisePredictor model.\n",
        "\n",
        "# It is an attempt at implementing a residual block that can be found in ResNets.\n",
        "\n",
        "# The key part of a residual block is adding the input back onto the outputs of the weight layers\n",
        "# '''\n",
        "# class ResBlock(nn.Module):\n",
        "#     def __init__(self, input_channels, output_channels):\n",
        "#         super(ResBlock, self).__init__()\n",
        "#         self.convs = nn.Sequential(\n",
        "#             nn.Conv2d(in_channels=input_channels, out_channels=output_channels, kernel_size=3, padding='same'),\n",
        "#             nn.BatchNorm2d(6),\n",
        "#             nn.ReLU(),\n",
        "#             nn.Conv2d(in_channels=output_channels, out_channels=output_channels, kernel_size=3, padding='same'),\n",
        "#             nn.BatchNorm2d(6)\n",
        "#         )\n",
        "\n",
        "#         # Note: Kind of useless if input channels = output channels, adds extra parameters for no reason\n",
        "#         self.increase_channels = nn.Conv2d(in_channels=input_channels, out_channels=output_channels, kernel_size=1, padding=0, stride=1)\n",
        "\n",
        "#     def forward(self, x):\n",
        "#         out = self.convs(x)\n",
        "\n",
        "#         more_channel_x = self.increase_channels(x)\n",
        "#         return out + more_channel_x\n",
        "\n",
        "\n",
        "# '''\n",
        "# NOISE PREDICTION\n",
        "\n",
        "# Main model that is used to predict noise\n",
        "# '''\n",
        "# class NoisePredictor(nn.Module):\n",
        "#     def __init__(self):\n",
        "#         super(NoisePredictor, self).__init__()\n",
        "#         self.res_block1 = ResBlock(1, 6)\n",
        "#         self.res_block2 = ResBlock(6, 6)\n",
        "#         self.res_block3 = ResBlock(6, 6)\n",
        "\n",
        "#         self.channel_reduction = nn.Conv2d(in_channels=6, out_channels=1, kernel_size=1, stride=1, padding=0)\n",
        "\n",
        "\n",
        "#     def forward(self, x):\n",
        "#         x = self.res_block1(x)\n",
        "#         x = self.res_block2(x)\n",
        "#         x = self.res_block3(x)\n",
        "#         x = self.channel_reduction(x)\n",
        "\n",
        "#         return torch.tanh(x)"
      ]
    },
    {
      "cell_type": "code",
      "execution_count": null,
      "metadata": {
        "id": "0NYVF7K6wWNq"
      },
      "outputs": [],
      "source": [
        "class ConvBlock(nn.Module):\n",
        "    def __init__(self, in_channels, out_channels):\n",
        "        super(ConvBlock, self).__init__()\n",
        "\n",
        "        self.conv = nn.Sequential(\n",
        "            nn.Conv2d(in_channels=in_channels, out_channels=out_channels, kernel_size=3, stride=1, padding='same'),\n",
        "            nn.ReLU(),\n",
        "            nn.Conv2d(in_channels=out_channels, out_channels=out_channels, kernel_size=3, stride=1, padding='same'),\n",
        "            nn.ReLU()\n",
        "        )\n",
        "\n",
        "    def forward(self, x):\n",
        "        return self.conv(x)\n",
        "\n",
        "class NoisePredictor(nn.Module):\n",
        "    def __init__(self):\n",
        "        super(NoisePredictor, self).__init__()\n",
        "        self.conv1 = ConvBlock(in_channels=1, out_channels=16)\n",
        "\n",
        "        self.max_pool1 = nn.MaxPool2d(2)\n",
        "\n",
        "        # Images should now be 8x14x14\n",
        "\n",
        "        self.conv2 = ConvBlock(in_channels=16, out_channels=32) # Doubles channel\n",
        "\n",
        "        self.max_pool2 = nn.MaxPool2d(2) # Halves dimension\n",
        "\n",
        "        # Images should now be 16x7x7\n",
        "\n",
        "        self.conv3 = ConvBlock(in_channels=32, out_channels=64)\n",
        "\n",
        "\n",
        "        # UPSAMPLING AND CONV #\n",
        "        # Upsample in channels are double the out channels because we concat\n",
        "        # the outputs from the decoder blocks\n",
        "\n",
        "        self.upconv1 = nn.ConvTranspose2d(64, 32, kernel_size=2, stride=2)\n",
        "        # 16x14x14\n",
        "        self.conv4 = ConvBlock(in_channels=64, out_channels=32)\n",
        "\n",
        "\n",
        "        self.upconv2 = nn.ConvTranspose2d(32, 16, kernel_size=2, stride=2)\n",
        "        # 8x28x28\n",
        "        self.conv5 = ConvBlock(in_channels=32, out_channels=16)\n",
        "\n",
        "        # Final 1x1 Conv to reduce channels\n",
        "        self.channel_reduction = nn.Conv2d(in_channels=16, out_channels=1, kernel_size=1, stride=1, padding=0)\n",
        "\n",
        "    def forward(self, x):\n",
        "        conv1_out = self.conv1(x)\n",
        "\n",
        "        conv2_out = self.conv2(self.max_pool1(conv1_out))\n",
        "        conv3_out = self.conv3(self.max_pool2(conv2_out))\n",
        "\n",
        "        conv4_in = torch.cat((self.upconv1(conv3_out), conv2_out), dim=1)\n",
        "        conv4_out = self.conv4(conv4_in)\n",
        "\n",
        "        conv5_in = torch.cat((self.upconv2(conv4_out), conv1_out), dim=1)\n",
        "        conv5_out = self.conv5(conv5_in)\n",
        "\n",
        "        single_channel = self.channel_reduction(conv5_out)\n",
        "\n",
        "        return torch.tanh(single_channel)\n",
        "\n"
      ]
    },
    {
      "cell_type": "markdown",
      "metadata": {
        "id": "Qs3o8knXuR0t"
      },
      "source": [
        "Let's test the model to make sure the input and output dimensions match.\n",
        "\n",
        "And, just for fun, let's look at the input images and the output images. Since the model hasn't been trained, all the weights are random, and so the output images are completely useless."
      ]
    },
    {
      "cell_type": "code",
      "execution_count": null,
      "metadata": {
        "colab": {
          "base_uri": "https://localhost:8080/",
          "height": 354
        },
        "id": "stcft5I-uR0t",
        "outputId": "bd81d6bd-7d58-4fd2-ff7a-58b24e283c42"
      },
      "outputs": [
        {
          "output_type": "stream",
          "name": "stdout",
          "text": [
            "torch.Size([4, 1, 28, 28])\n",
            "torch.Size([4, 1, 28, 28])\n"
          ]
        },
        {
          "output_type": "display_data",
          "data": {
            "text/plain": [
              "<Figure size 640x480 with 1 Axes>"
            ],
            "image/png": "[encoded data removed]"
          },
          "metadata": {}
        }
      ],
      "source": [
        "shape_test = NoisePredictor() # Create a new NoisePredictor model\n",
        "\n",
        "images, labels = next(iter(MNIST_dataloader)) # We will get some images using the dataloader defined above\n",
        "\n",
        "output = shape_test(images)\n",
        "\n",
        "# Print the shapes of the input images and output\n",
        "# They should match\n",
        "print(images.shape)\n",
        "print(output.shape)\n",
        "\n",
        "display = torch.cat((images, output), dim=0)\n",
        "\n",
        "display_batch(display, nrow=4, min=-1, max=1)"
      ]
    },
    {
      "cell_type": "markdown",
      "metadata": {
        "id": "9pQUiYr3uR0v"
      },
      "source": [
        "## Noise remover"
      ]
    },
    {
      "cell_type": "markdown",
      "metadata": {
        "id": "NvlSBrXOuR0v"
      },
      "source": [
        "# Training\n",
        "\n",
        "Before we can use the diffusion model, we have to train the noise predictor."
      ]
    },
    {
      "cell_type": "markdown",
      "metadata": {
        "id": "lBc7RXrcuR0w"
      },
      "source": [
        "## Getting the data\n",
        "\n",
        "We will use the MNIST dataset to train our model. We will noise the images later on when we train the model."
      ]
    },
    {
      "cell_type": "code",
      "execution_count": null,
      "metadata": {
        "id": "PNT0Bzd4uR0x"
      },
      "outputs": [],
      "source": [
        "class ScaleToMinusOneToOne(object):\n",
        "    def __call__(self, tensor):\n",
        "        return tensor * 2.0 - 1.0\n",
        "\n",
        "transform = transforms.Compose([\n",
        "    transforms.ToTensor(),          # Convert PIL image to tensor\n",
        "    ScaleToMinusOneToOne()         # Scale tensor values to range from -1 to 1\n",
        "])\n",
        "\n",
        "trainset = torchvision.datasets.MNIST(root='./data', train=True,\n",
        "                                        download=True, transform=transform)\n",
        "\n",
        "trainloader = torch.utils.data.DataLoader(trainset, batch_size=4,\n",
        "                                          shuffle=True, num_workers=2)\n",
        "\n",
        "\n",
        "\n",
        "\n",
        "testset = torchvision.datasets.MNIST(root='./data', train=False,\n",
        "                                        download=True, transform=transform)\n",
        "\n",
        "trainloader = torch.utils.data.DataLoader(testset, batch_size=4,\n",
        "                                          shuffle=False, num_workers=2)"
      ]
    },
    {
      "cell_type": "markdown",
      "metadata": {
        "id": "TiMiaOoruR0y"
      },
      "source": [
        "# Create a model instance"
      ]
    },
    {
      "cell_type": "code",
      "execution_count": null,
      "metadata": {
        "id": "nMQiXC8tuR0y"
      },
      "outputs": [],
      "source": [
        "noise_predictor = NoisePredictor()"
      ]
    },
    {
      "cell_type": "markdown",
      "metadata": {
        "id": "JRd43N2duR0z"
      },
      "source": [
        "# Loss function and optimizer\n",
        "\n",
        "We used MSE loss and stochastic gradient descent to train the model. You can experiment with other loss functions and see how that changes the accuracy of the model."
      ]
    },
    {
      "cell_type": "code",
      "execution_count": null,
      "metadata": {
        "id": "_8O8X6pHuR00"
      },
      "outputs": [],
      "source": [
        "criterion = nn.MSELoss()\n",
        "optimizer = optim.SGD(noise_predictor.parameters(), lr=0.001, momentum=0.9)"
      ]
    },
    {
      "cell_type": "markdown",
      "metadata": {
        "id": "j3VpYghxuR01"
      },
      "source": [
        "## Training loop\n",
        "\n",
        "Finally, here is the code that actually trains the model"
      ]
    },
    {
      "cell_type": "code",
      "execution_count": null,
      "metadata": {
        "colab": {
          "background_save": true,
          "base_uri": "https://localhost:8080/"
        },
        "id": "01m7BNxiuR02",
        "outputId": "94d8906f-140a-4bc7-ad78-1dfbd4691ee4"
      },
      "outputs": [
        {
          "output_type": "stream",
          "name": "stdout",
          "text": [
            "[1,  2000] loss: 0.089\n",
            "[2,  2000] loss: 0.072\n",
            "[3,  2000] loss: 0.046\n",
            "[4,  2000] loss: 0.040\n"
          ]
        }
      ],
      "source": [
        "device = torch.device(\"cuda\" if torch.cuda.is_available() else \"cpu\")\n",
        "noise_predictor.to(device)\n",
        "for epoch in range(50):  # loop over the dataset multiple times\n",
        "\n",
        "    running_loss = 0.0\n",
        "    for i, data in enumerate(trainloader, 0):\n",
        "        # Get the images\n",
        "        images, _ = data\n",
        "\n",
        "        images = images.to(device) # Move to the GPU if GPU is availible\n",
        "\n",
        "        # Choose a random timestep\n",
        "        timestep = randint(0, MAX_TIMESTEPS+1)\n",
        "\n",
        "        # Noise the images, and also save the noise\n",
        "        sample_noise = epsilon(images.shape).to(device)\n",
        "        noised_images = noise(images, sample_noise, timestep).to(device)\n",
        "\n",
        "        # zero the parameter gradients\n",
        "        optimizer.zero_grad()\n",
        "\n",
        "        # forward + backward + optimize\n",
        "        predicted_noise = noise_predictor(noised_images).to(device)\n",
        "        loss = criterion(predicted_noise, sample_noise).to(device)\n",
        "        loss.backward()\n",
        "        optimizer.step()\n",
        "\n",
        "        # print statistics\n",
        "        running_loss += loss.item()\n",
        "        if i % 2000 == 1999:    # print every 2000 mini-batches\n",
        "            print('[%d, %5d] loss: %.3f' %\n",
        "                  (epoch + 1, i + 1, running_loss / 2000))\n",
        "            running_loss = 0.0\n",
        "\n",
        "print('Finished Training')\n",
        "\n",
        "# Save the model\n",
        "torch.save(noise_predictor.state_dict(), 'noise_predictor.pt')\n"
      ]
    },
    {
      "cell_type": "markdown",
      "metadata": {
        "id": "pHiXtBNUuR03"
      },
      "source": [
        "Let's test the model!"
      ]
    },
    {
      "cell_type": "code",
      "execution_count": null,
      "metadata": {
        "id": "ZNUa3aN7uR04",
        "colab": {
          "base_uri": "https://localhost:8080/",
          "height": 434
        },
        "outputId": "396fecbf-fbd2-433b-a2f2-7748da4ee74a"
      },
      "outputs": [
        {
          "output_type": "display_data",
          "data": {
            "text/plain": [
              "<Figure size 640x480 with 1 Axes>"
            ],
            "image/png": "[encoded data removed]"
          },
          "metadata": {}
        }
      ],
      "source": [
        "images, labels = next(iter(MNIST_dataloader))\n",
        "noise_predictor.to('cpu')\n",
        "noise_sample = epsilon(images.shape)\n",
        "noised_images = noise(images, noise_sample, torch.tensor(0.75 * MAX_TIMESTEPS))\n",
        "predicted_noise = noise_predictor(noised_images)\n",
        "\n",
        "display = torch.cat((images, noised_images, noise_sample, predicted_noise), dim=0)\n",
        "display_batch(display, nrow=4)"
      ]
    },
    {
      "cell_type": "markdown",
      "metadata": {
        "id": "uSZ6AyBauR04"
      },
      "source": [
        "# Final program"
      ]
    }
  ],
  "metadata": {
    "accelerator": "GPU",
    "colab": {
      "gpuType": "T4",
      "provenance": []
    },
    "kaggle": {
      "accelerator": "gpu",
      "dataSources": [],
      "dockerImageVersionId": 30699,
      "isGpuEnabled": true,
      "isInternetEnabled": true,
      "language": "python",
      "sourceType": "notebook"
    },
    "kernelspec": {
      "display_name": "Python 3",
      "name": "python3"
    },
    "language_info": {
      "codemirror_mode": {
        "name": "ipython",
        "version": 3
      },
      "file_extension": ".py",
      "mimetype": "text/x-python",
      "name": "python",
      "nbconvert_exporter": "python",
      "pygments_lexer": "ipython3",
      "version": "3.10.13"
    }
  },
  "nbformat": 4,
  "nbformat_minor": 0
}